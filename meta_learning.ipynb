{
 "cells": [
  {
   "cell_type": "code",
   "execution_count": 1,
   "metadata": {},
   "outputs": [],
   "source": [
    "import numpy as np\n",
    "\n",
    "import torch\n",
    "import torch.nn as nn"
   ]
  },
  {
   "cell_type": "code",
   "execution_count": 2,
   "metadata": {},
   "outputs": [],
   "source": [
    "class mlp(nn.Module):\n",
    "    def __init__(self, input_dim=1, hl1_dim=64, hl2_dim = 64, output_dim=1):\n",
    "        super(mlp, self).__init__()\n",
    "        self.layers = nn.Sequential(\n",
    "            nn.Linear(input_dim, hl1_dim), \n",
    "            nn.Tanh(),\n",
    "            nn.Linear(hl1_dim, hl2_dim), \n",
    "            nn.Tanh(),\n",
    "            nn.Linear(hl2_dim, output_dim),\n",
    "            )\n",
    "\n",
    "    def forward(self, x):\n",
    "        return self.layers(x)"
   ]
  },
  {
   "cell_type": "code",
   "execution_count": null,
   "metadata": {},
   "outputs": [],
   "source": [
    "def task_a(a_min = 0.1, a_max = 5.0):\n",
    "    a = np.random.rand()\n",
    "    a = a * (a_max - a_min) + a_min\n",
    "    \n",
    "    phase = 2 * np.pi * np.random.rand()\n",
    "    \n",
    "    #Using torch linspace and sin so that it makes tensors\n",
    "    x_tau = torch.linspace(-5, 5, 50)\n",
    "    y_tau = a * torch.sin(x_tau + phase)\n",
    "\n",
    "    return x_tau, y_tau"
   ]
  }
 ],
 "metadata": {
  "kernelspec": {
   "display_name": "Python 3",
   "language": "python",
   "name": "python3"
  },
  "language_info": {
   "codemirror_mode": {
    "name": "ipython",
    "version": 3
   },
   "file_extension": ".py",
   "mimetype": "text/x-python",
   "name": "python",
   "nbconvert_exporter": "python",
   "pygments_lexer": "ipython3",
   "version": "3.11.0"
  }
 },
 "nbformat": 4,
 "nbformat_minor": 2
}
