{
 "cells": [
  {
   "cell_type": "code",
   "execution_count": 47,
   "metadata": {},
   "outputs": [],
   "source": [
    "import numpy as np\n",
    "\n",
    "import torch\n",
    "import torch.nn as nn"
   ]
  },
  {
   "cell_type": "code",
   "execution_count": 48,
   "metadata": {},
   "outputs": [],
   "source": [
    "class mlp(nn.Module):\n",
    "    def __init__(self, input_dim=1, hl1_dim=64, hl2_dim = 64, output_dim=1):\n",
    "        super(mlp, self).__init__()\n",
    "        self.layers = nn.Sequential(\n",
    "            nn.Linear(input_dim, hl1_dim), \n",
    "            nn.Tanh(),\n",
    "            nn.Linear(hl1_dim, hl2_dim), \n",
    "            nn.Tanh(),\n",
    "            nn.Linear(hl2_dim, output_dim),\n",
    "            )\n",
    "\n",
    "    def forward(self, x):\n",
    "        return self.layers(x)"
   ]
  },
  {
   "cell_type": "code",
   "execution_count": 49,
   "metadata": {},
   "outputs": [],
   "source": [
    "def task_a(a_min = 0.1, a_max = 5.0):\n",
    "    a = np.random.rand()\n",
    "    a = a * (a_max - a_min) + a_min\n",
    "    \n",
    "    phase = 2 * np.pi * np.random.rand()\n",
    "    \n",
    "    #Using torch linspace and sin so that it makes tensors\n",
    "    x_tau = torch.linspace(-5, 5, 50)\n",
    "    y_tau = a * torch.sin(x_tau + phase)\n",
    "\n",
    "    return x_tau, y_tau"
   ]
  },
  {
   "cell_type": "code",
   "execution_count": 57,
   "metadata": {},
   "outputs": [],
   "source": [
    "model = mlp()\n",
    "batchsize = 10\n",
    "lr = 0.02\n",
    "loss_calc = nn.MSELoss()\n",
    "\n",
    "\n",
    "optim = torch.optim.SGD(model.parameters(), lr=lr)\n",
    "#Can use SGD or Adam optimiser, using SGD currently\n",
    "#optim = torch.optim.Adam(model.parameters(), lr=lr)\n",
    "\n",
    "\n",
    "x_tau, y_tau = task_a()\n",
    "\n",
    "for batch_iter in range(x_tau.shape[0] // batchsize):\n",
    "    index_train_slice = torch.randperm(x_tau.shape[0])[batch_iter*batchsize:(batch_iter*batchsize)+batchsize]\n",
    "\n",
    "    batch_in = x_tau[index_train_slice].reshape(-1,1)\n",
    "    batch_target = y_tau[index_train_slice].reshape(-1,1)\n",
    "\n",
    "    loss = loss_calc(model(batch_in), batch_target)\n",
    "    optim.zero_grad()\n",
    "    loss.backward()\n",
    "    optim.step()  "
   ]
  }
 ],
 "metadata": {
  "kernelspec": {
   "display_name": "Python 3",
   "language": "python",
   "name": "python3"
  },
  "language_info": {
   "codemirror_mode": {
    "name": "ipython",
    "version": 3
   },
   "file_extension": ".py",
   "mimetype": "text/x-python",
   "name": "python",
   "nbconvert_exporter": "python",
   "pygments_lexer": "ipython3",
   "version": "3.11.0"
  }
 },
 "nbformat": 4,
 "nbformat_minor": 2
}
